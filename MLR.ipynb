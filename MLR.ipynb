{
 "cells": [
  {
   "cell_type": "code",
   "execution_count": 2,
   "metadata": {
    "scrolled": true
   },
   "outputs": [
    {
     "name": "stdout",
     "output_type": "stream",
     "text": [
      "[[   nan    nan    nan]\n",
      " [   14.    25.   620.]\n",
      " [   28.    25.  1315.]\n",
      " [   41.    25.  2120.]\n",
      " [   55.    25.  2600.]\n",
      " [   69.    25.  3110.]\n",
      " [   83.    25.  3535.]\n",
      " [   97.    25.  3935.]\n",
      " [  111.    25.  4465.]\n",
      " [  125.    25.  4530.]\n",
      " [  139.    25.  4570.]\n",
      " [  153.    25.  4600.]\n",
      " [   14.    27.   625.]\n",
      " [   28.    27.  1215.]\n",
      " [   41.    27.  2110.]\n",
      " [   55.    27.  2805.]\n",
      " [   69.    27.  3255.]\n",
      " [   83.    27.  4015.]\n",
      " [   97.    27.  4315.]\n",
      " [  111.    27.  4495.]\n",
      " [  125.    27.  4535.]\n",
      " [  139.    27.  4600.]\n",
      " [  153.    27.  4600.]\n",
      " [   14.    29.   590.]\n",
      " [   28.    29.  1305.]\n",
      " [   41.    29.  2140.]\n",
      " [   55.    29.  2890.]\n",
      " [   69.    29.  3920.]\n",
      " [   83.    29.  3920.]\n",
      " [   97.    29.  4515.]\n",
      " [  111.    29.  4520.]\n",
      " [  125.    29.  4525.]\n",
      " [  139.    29.  4565.]\n",
      " [  153.    29.  4566.]\n",
      " [   14.    31.   590.]\n",
      " [   28.    31.  1205.]\n",
      " [   41.    31.  1915.]\n",
      " [   55.    31.  2140.]\n",
      " [   69.    31.  2710.]\n",
      " [   83.    31.  3020.]\n",
      " [   97.    31.  3030.]\n",
      " [  111.    31.  3040.]\n",
      " [  125.    31.  3180.]\n",
      " [  139.    31.  3257.]\n",
      " [  153.    31.  3214.]]\n"
     ]
    }
   ],
   "source": [
    "#reading data from Fish.csv\n",
    "from numpy import *\n",
    "data=genfromtxt(\"Fish.csv\",delimiter=\",\")\n",
    "print(data)"
   ]
  },
  {
   "cell_type": "code",
   "execution_count": 3,
   "metadata": {
    "collapsed": true
   },
   "outputs": [],
   "source": [
    "#deleating first row\n",
    "data=delete(data,(0),axis=0)\n",
    "#print(data)"
   ]
  },
  {
   "cell_type": "code",
   "execution_count": 4,
   "metadata": {
    "collapsed": true
   },
   "outputs": [],
   "source": [
    "#storing y coordinates and x coordinates into another array list\n",
    "y_mat=array(data[:,len(data[0])-1])\n",
    "ex_mat1=array(data[:,len(data[0])-2])\n",
    "ex_mat2=array(data[:,len(data[0])-3])\n",
    "#print(ex_mat1)\n",
    "#print(ex_mat2)"
   ]
  },
  {
   "cell_type": "code",
   "execution_count": 15,
   "metadata": {
    "collapsed": true
   },
   "outputs": [],
   "source": [
    "#replacing all values of y with 1 in data and storing in a_mat.\n",
    "a_mat=data\n",
    "a_mat[:,len(a_mat[0])-1]=1"
   ]
  },
  {
   "cell_type": "code",
   "execution_count": 16,
   "metadata": {},
   "outputs": [
    {
     "name": "stdout",
     "output_type": "stream",
     "text": [
      "[[  14.   25.    1.]\n",
      " [  28.   25.    1.]\n",
      " [  41.   25.    1.]\n",
      " [  55.   25.    1.]\n",
      " [  69.   25.    1.]\n",
      " [  83.   25.    1.]\n",
      " [  97.   25.    1.]\n",
      " [ 111.   25.    1.]\n",
      " [ 125.   25.    1.]\n",
      " [ 139.   25.    1.]\n",
      " [ 153.   25.    1.]\n",
      " [  14.   27.    1.]\n",
      " [  28.   27.    1.]\n",
      " [  41.   27.    1.]\n",
      " [  55.   27.    1.]\n",
      " [  69.   27.    1.]\n",
      " [  83.   27.    1.]\n",
      " [  97.   27.    1.]\n",
      " [ 111.   27.    1.]\n",
      " [ 125.   27.    1.]\n",
      " [ 139.   27.    1.]\n",
      " [ 153.   27.    1.]\n",
      " [  14.   29.    1.]\n",
      " [  28.   29.    1.]\n",
      " [  41.   29.    1.]\n",
      " [  55.   29.    1.]\n",
      " [  69.   29.    1.]\n",
      " [  83.   29.    1.]\n",
      " [  97.   29.    1.]\n",
      " [ 111.   29.    1.]\n",
      " [ 125.   29.    1.]\n",
      " [ 139.   29.    1.]\n",
      " [ 153.   29.    1.]\n",
      " [  14.   31.    1.]\n",
      " [  28.   31.    1.]\n",
      " [  41.   31.    1.]\n",
      " [  55.   31.    1.]\n",
      " [  69.   31.    1.]\n",
      " [  83.   31.    1.]\n",
      " [  97.   31.    1.]\n",
      " [ 111.   31.    1.]\n",
      " [ 125.   31.    1.]\n",
      " [ 139.   31.    1.]\n",
      " [ 153.   31.    1.]]\n"
     ]
    }
   ],
   "source": [
    "print(a_mat)"
   ]
  },
  {
   "cell_type": "code",
   "execution_count": 17,
   "metadata": {},
   "outputs": [
    {
     "name": "stdout",
     "output_type": "stream",
     "text": [
      "[[  620.]\n",
      " [ 1315.]\n",
      " [ 2120.]\n",
      " [ 2600.]\n",
      " [ 3110.]\n",
      " [ 3535.]\n",
      " [ 3935.]\n",
      " [ 4465.]\n",
      " [ 4530.]\n",
      " [ 4570.]\n",
      " [ 4600.]\n",
      " [  625.]\n",
      " [ 1215.]\n",
      " [ 2110.]\n",
      " [ 2805.]\n",
      " [ 3255.]\n",
      " [ 4015.]\n",
      " [ 4315.]\n",
      " [ 4495.]\n",
      " [ 4535.]\n",
      " [ 4600.]\n",
      " [ 4600.]\n",
      " [  590.]\n",
      " [ 1305.]\n",
      " [ 2140.]\n",
      " [ 2890.]\n",
      " [ 3920.]\n",
      " [ 3920.]\n",
      " [ 4515.]\n",
      " [ 4520.]\n",
      " [ 4525.]\n",
      " [ 4565.]\n",
      " [ 4566.]\n",
      " [  590.]\n",
      " [ 1205.]\n",
      " [ 1915.]\n",
      " [ 2140.]\n",
      " [ 2710.]\n",
      " [ 3020.]\n",
      " [ 3030.]\n",
      " [ 3040.]\n",
      " [ 3180.]\n",
      " [ 3257.]\n",
      " [ 3214.]]\n"
     ]
    }
   ],
   "source": [
    "y_mat.resize(len(a_mat),1)\n",
    "print(y_mat)"
   ]
  },
  {
   "cell_type": "code",
   "execution_count": 8,
   "metadata": {},
   "outputs": [
    {
     "name": "stdout",
     "output_type": "stream",
     "text": [
      "[[   26.24068177]\n",
      " [ -106.41363636]\n",
      " [ 3904.26601675]]\n",
      "[[ 1611.29465238]\n",
      " [ 1978.6641971 ]\n",
      " [ 2319.79306006]\n",
      " [ 2687.16260478]\n",
      " [ 3054.5321495 ]\n",
      " [ 3421.90169422]\n",
      " [ 3789.27123895]\n",
      " [ 4156.64078367]\n",
      " [ 4524.01032839]\n",
      " [ 4891.37987311]\n",
      " [ 5258.74941783]\n",
      " [ 1398.46737966]\n",
      " [ 1765.83692438]\n",
      " [ 2106.96578733]\n",
      " [ 2474.33533205]\n",
      " [ 2841.70487678]\n",
      " [ 3209.0744215 ]\n",
      " [ 3576.44396622]\n",
      " [ 3943.81351094]\n",
      " [ 4311.18305566]\n",
      " [ 4678.55260038]\n",
      " [ 5045.9221451 ]\n",
      " [ 1185.64010693]\n",
      " [ 1553.00965165]\n",
      " [ 1894.13851461]\n",
      " [ 2261.50805933]\n",
      " [ 2628.87760405]\n",
      " [ 2996.24714877]\n",
      " [ 3363.61669349]\n",
      " [ 3730.98623821]\n",
      " [ 4098.35578293]\n",
      " [ 4465.72532766]\n",
      " [ 4833.09487238]\n",
      " [  972.8128342 ]\n",
      " [ 1340.18237892]\n",
      " [ 1681.31124188]\n",
      " [ 2048.6807866 ]\n",
      " [ 2416.05033132]\n",
      " [ 2783.41987604]\n",
      " [ 3150.78942076]\n",
      " [ 3518.15896549]\n",
      " [ 3885.52851021]\n",
      " [ 4252.89805493]\n",
      " [ 4620.26759965]]\n"
     ]
    }
   ],
   "source": [
    "#caliculating unkown b0,b1,b2 by using lstsq\n",
    "x_mat=matrix(linalg.lstsq(a_mat,y_mat)[0])\n",
    "x_mat.resize(len(a_mat[0]),1)\n",
    "y_pred=dot(a_mat,x_mat)\n",
    "print(x_mat)\n",
    "print(y_pred)"
   ]
  },
  {
   "cell_type": "code",
   "execution_count": 18,
   "metadata": {
    "collapsed": true
   },
   "outputs": [],
   "source": [
    "#caliculating error\n",
    "diff=(y_mat-y_pred)\n",
    "error=sum(multiply(diff,diff))/len(a_mat)"
   ]
  },
  {
   "cell_type": "code",
   "execution_count": 10,
   "metadata": {},
   "outputs": [
    {
     "name": "stdout",
     "output_type": "stream",
     "text": [
      "b0=4620.267599650338\n",
      "b1=1611.2946523824603\n",
      "b2=1978.6641971040124\n",
      "Error: 335451.769187\n"
     ]
    }
   ],
   "source": [
    "print(\"b0=\",float(y_pred[len(y_pred)-1]),sep=\"\")\n",
    "for i in range(len(x_mat)-1):\n",
    "    print(\"b\",i+1,\"=\",float(y_pred[i]),sep=\"\")\n",
    "print(\"Error:\",error)  "
   ]
  },
  {
   "cell_type": "code",
   "execution_count": 19,
   "metadata": {},
   "outputs": [
    {
     "data": {
      "text/plain": [
       "[<matplotlib.lines.Line2D at 0x1dec8fbca90>]"
      ]
     },
     "execution_count": 19,
     "metadata": {},
     "output_type": "execute_result"
    }
   ],
   "source": [
    "#plotting results\n",
    "from matplotlib import pyplot as plt\n",
    "plt.scatter(ex_mat1,y_mat)\n",
    "plt.scatter(ex_mat2,y_mat)\n",
    "plt.plot(ex_mat1,y_pred)\n",
    "plt.grid()\n",
    "plt.plot(ex_mat2,y_pred)    "
   ]
  },
  {
   "cell_type": "code",
   "execution_count": 20,
   "metadata": {},
   "outputs": [
    {
     "data": {
      "image/png": "[encoded data removed]",
      "text/plain": [
       "<matplotlib.figure.Figure at 0x1dec8f1b048>"
      ]
     },
     "metadata": {},
     "output_type": "display_data"
    }
   ],
   "source": [
    "plt.show()"
   ]
  }
 ],
 "metadata": {
  "kernelspec": {
   "display_name": "Python 3",
   "language": "python",
   "name": "python3"
  },
  "language_info": {
   "codemirror_mode": {
    "name": "ipython",
    "version": 3
   },
   "file_extension": ".py",
   "mimetype": "text/x-python",
   "name": "python",
   "nbconvert_exporter": "python",
   "pygments_lexer": "ipython3",
   "version": "3.6.1"
  }
 },
 "nbformat": 4,
 "nbformat_minor": 2
}
